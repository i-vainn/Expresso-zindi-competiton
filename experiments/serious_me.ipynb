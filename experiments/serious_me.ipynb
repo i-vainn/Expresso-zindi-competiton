{
 "cells": [
  {
   "cell_type": "code",
   "execution_count": 1,
   "metadata": {},
   "outputs": [],
   "source": [
    "import pandas as pd\n",
    "import numpy as np\n",
    "import yaml\n",
    "\n",
    "from scipy.signal import argrelextrema\n",
    "\n",
    "from lightgbm import LGBMClassifier\n",
    "from sklearn.linear_model import RidgeClassifier\n",
    "from sklearn.neighbors import KNeighborsClassifier\n",
    "from sklearn.ensemble import StackingClassifier\n",
    "\n",
    "from sklearn.preprocessing import OneHotEncoder, LabelEncoder\n",
    "from sklearn.preprocessing import PowerTransformer\n",
    "from sklearn.model_selection import train_test_split\n",
    "from sklearn.metrics import roc_auc_score\n",
    "from category_encoders import CountEncoder, TargetEncoder\n",
    "\n",
    "from tqdm.notebook import tqdm\n",
    "import matplotlib.pyplot as plt\n",
    "import seaborn as sns\n",
    "\n",
    "import sys\n",
    "\n",
    "sys.path.append('..')\n",
    "\n",
    "from source.utils import read_data, handle_nans, preprocess"
   ]
  },
  {
   "cell_type": "code",
   "execution_count": 2,
   "metadata": {},
   "outputs": [],
   "source": [
    "train,  = read_data(who=['train'])"
   ]
  },
  {
   "cell_type": "code",
   "execution_count": 3,
   "metadata": {},
   "outputs": [
    {
     "data": {
      "text/plain": [
       "(                                          user_id  REGION         TENURE  \\\n",
       " 0        00000bfd7d50f01092811bc0c8d7b0d6fe7c3596  FATICK   K > 24 month   \n",
       " 1        00000cb4a5d760de88fecb38e2f71b7bec52e834     NAN  I 18-21 month   \n",
       " 2        00001654a9d9f96303d9969d0a4a851714a4bb57     NAN   K > 24 month   \n",
       " 3        00001dd6fa45f7ba044bd5d84937be464ce78ac2   DAKAR   K > 24 month   \n",
       " 4        000028d9e13a595abe061f9b58f3d76ab907850f   DAKAR   K > 24 month   \n",
       " ...                                           ...     ...            ...   \n",
       " 2154043  ffffe85215ddc71a84f95af0afb0deeea90e6967     NAN   K > 24 month   \n",
       " 2154044  ffffeaaa9289cdba0ac000f0ab4b48f4aa74ed15   THIES   K > 24 month   \n",
       " 2154045  fffff172fda1b4bb38a95385951908bb92379809     NAN   K > 24 month   \n",
       " 2154046  fffff5911296937a37f09a37a549da2e0dad6dbb   THIES   K > 24 month   \n",
       " 2154047  fffff6dbff1508ea2bfe814e5ab2729ce6b788c2     NAN   K > 24 month   \n",
       " \n",
       "          MONTANT  FREQUENCE_RECH  REVENUE  ARPU_SEGMENT  FREQUENCE  \\\n",
       " 0         4250.0            15.0   4251.0        1417.0       17.0   \n",
       " 1         3000.0             7.0   3000.0        1000.0        9.0   \n",
       " 2         3600.0             2.0   1020.0         340.0        2.0   \n",
       " 3        13500.0            15.0  13502.0        4501.0       18.0   \n",
       " 4         1000.0             1.0    985.0         328.0        1.0   \n",
       " ...          ...             ...      ...           ...        ...   \n",
       " 2154043   3000.0             7.0   3000.0        1000.0        9.0   \n",
       " 2154044   6100.0            15.0   5800.0        1933.0       15.0   \n",
       " 2154045   3000.0             7.0   3000.0        1000.0        9.0   \n",
       " 2154046  10000.0            11.0   7120.0        2373.0       13.0   \n",
       " 2154047   3000.0             7.0   3000.0        1000.0        9.0   \n",
       " \n",
       "          DATA_VOLUME  ON_NET  ...  DATA_VOLUME_isna  ON_NET_isna  ORANGE_isna  \\\n",
       " 0                4.0   388.0  ...                 0            0            0   \n",
       " 1              257.0    27.0  ...                 1            1            1   \n",
       " 2              257.0    90.0  ...                 1            0            0   \n",
       " 3            43804.0    41.0  ...                 0            0            0   \n",
       " 4              257.0    39.0  ...                 1            0            0   \n",
       " ...              ...     ...  ...               ...          ...          ...   \n",
       " 2154043        257.0    27.0  ...                 1            1            1   \n",
       " 2154044        621.0    26.0  ...                 0            0            0   \n",
       " 2154045        257.0    27.0  ...                 1            1            1   \n",
       " 2154046        257.0     0.0  ...                 1            0            0   \n",
       " 2154047          2.0    27.0  ...                 0            1            1   \n",
       " \n",
       "          TIGO_isna ZONE1_isna  ZONE2_isna  FREQ_TOP_PACK_isna  F_isna  \\\n",
       " 0                0          0           0                   0       0   \n",
       " 1                1          1           1                   1       1   \n",
       " 2                0          1           1                   0       0   \n",
       " 3                0          1           1                   0       0   \n",
       " 4                1          1           1                   0       0   \n",
       " ...            ...        ...         ...                 ...     ...   \n",
       " 2154043          1          1           1                   1       1   \n",
       " 2154044          0          1           1                   0       0   \n",
       " 2154045          1          1           1                   1       1   \n",
       " 2154046          0          1           1                   0       0   \n",
       " 2154047          1          1           1                   1       1   \n",
       " \n",
       "         size_isna  duration_isna  \n",
       " 0               0              0  \n",
       " 1               1              1  \n",
       " 2               1              0  \n",
       " 3               0              0  \n",
       " 4               0              0  \n",
       " ...           ...            ...  \n",
       " 2154043         1              1  \n",
       " 2154044         0              0  \n",
       " 2154045         1              1  \n",
       " 2154046         0              0  \n",
       " 2154047         1              1  \n",
       " \n",
       " [2154048 rows x 37 columns],)"
      ]
     },
     "execution_count": 3,
     "metadata": {},
     "output_type": "execute_result"
    }
   ],
   "source": [
    "train, = handle_nans(preprocess(train))"
   ]
  },
  {
   "cell_type": "code",
   "execution_count": 19,
   "metadata": {},
   "outputs": [],
   "source": [
    "target = train['CHURN']\n",
    "train['REGULARITY'] = train['REGULARITY'].astype('float')\n",
    "train = train.drop(['user_id', 'MRG', 'CHURN'], axis=1)\n",
    "# test = test.drop(['user_id', 'MRG'], axis=1)"
   ]
  },
  {
   "cell_type": "code",
   "execution_count": 8,
   "metadata": {},
   "outputs": [],
   "source": [
    "# def get_bins(data):\n",
    "#     x, y = sns.kdeplot(data[data>0], log_scale=True, color='b').get_lines()[0].get_data()\n",
    "#     plt.close()\n",
    "#     ext, = argrelextrema(y, np.less)\n",
    "#     return [min(data.min(), x.min()) - 1, *x[ext], max(data.max(), x.max()) + 1]\n",
    "\n",
    "# for col in tqdm(train.columns[train.dtypes=='float']):\n",
    "#     bins = get_bins(train[col])\n",
    "#     train[col + '_minimums'] = pd.cut(train[col], bins)\n",
    "#     test[col + '_minimums'] = pd.cut(test[col], bins)\n",
    "\n",
    "# ohe = OneHotEncoder(sparse=False, handle_unknown='ignore')\n",
    "# ohe_train = ohe.fit_transform(train[train.columns[train.dtypes=='object']])\n",
    "# ohe_test = ohe.transform(test[test.columns[test.dtypes=='object']])\n",
    "\n",
    "# train = np.hstack([ohe_train, train[train.columns[train.dtypes!='object']].values])\n",
    "# test = np.hstack([ohe_test, test[test.columns[test.dtypes!='object']].values])\n",
    "# le = CountEncoder()\n",
    "# le_train = le.fit_transform(train[train.columns[train.dtypes=='object']])\n",
    "# le_test = le.transform(test[test.columns[test.dtypes=='object']])\n",
    "\n",
    "# train = np.hstack([le_train, train[train.columns[train.dtypes!='object']].values])\n",
    "# test = np.hstack([le_test, test[test.columns[test.dtypes!='object']].values])"
   ]
  },
  {
   "cell_type": "code",
   "execution_count": 24,
   "metadata": {},
   "outputs": [
    {
     "name": "stderr",
     "output_type": "stream",
     "text": [
      "c:\\users\\ivan\\appdata\\local\\programs\\python\\python38\\lib\\site-packages\\category_encoders\\utils.py:21: FutureWarning: is_categorical is deprecated and will be removed in a future version.  Use is_categorical_dtype instead\n",
      "  elif pd.api.types.is_categorical(cols):\n"
     ]
    }
   ],
   "source": [
    "X_train, X_val, y_train, y_val = train_test_split(train, target, random_state=42)\n",
    "\n",
    "te = TargetEncoder()\n",
    "\n",
    "le_train = le.fit_transform(X_train[X_train.columns[X_train.dtypes=='object']], y_train)\n",
    "le_val = le.transform(X_val[X_val.columns[X_val.dtypes=='object']])\n",
    "\n",
    "X_train = np.hstack([le_train, X_train[X_train.columns[X_train.dtypes!='object']].values])\n",
    "X_val = np.hstack([le_val, X_val[X_val.columns[X_val.dtypes!='object']].values])"
   ]
  },
  {
   "cell_type": "code",
   "execution_count": 27,
   "metadata": {},
   "outputs": [
    {
     "data": {
      "text/plain": [
       "0.9189821997834796"
      ]
     },
     "execution_count": 27,
     "metadata": {},
     "output_type": "execute_result"
    }
   ],
   "source": [
    "lr = RidgeClassifier(class_weight='balanced')\n",
    "lr.fit(X_train, y_train)\n",
    "\n",
    "roc_auc_score(y_val, lr.decision_function(X_val))"
   ]
  },
  {
   "cell_type": "code",
   "execution_count": 30,
   "metadata": {
    "scrolled": true
   },
   "outputs": [
    {
     "data": {
      "text/plain": [
       "0.9250693117958613"
      ]
     },
     "execution_count": 30,
     "metadata": {},
     "output_type": "execute_result"
    }
   ],
   "source": [
    "lr = RidgeClassifier(class_weight='balanced')\n",
    "lr.fit(X_train, y_train)\n",
    "\n",
    "roc_auc_score(y_val, lr.decision_function(X_val))"
   ]
  },
  {
   "cell_type": "code",
   "execution_count": 49,
   "metadata": {},
   "outputs": [],
   "source": [
    "lr = RidgeClassifier(class_weight='balanced')\n",
    "lr.fit(train, target)\n",
    "\n",
    "prediction = lr.decision_function(test)"
   ]
  },
  {
   "cell_type": "code",
   "execution_count": 53,
   "metadata": {},
   "outputs": [],
   "source": [
    "train = np.hstack([train, lr.decision_function(train).reshape(-1, 1)])\n",
    "test = np.hstack([test, lr.decision_function(test).reshape(-1, 1)])"
   ]
  },
  {
   "cell_type": "code",
   "execution_count": 54,
   "metadata": {},
   "outputs": [],
   "source": [
    "X_train, X_val, y_train, y_val = train_test_split(train, target)"
   ]
  },
  {
   "cell_type": "code",
   "execution_count": 30,
   "metadata": {},
   "outputs": [
    {
     "data": {
      "text/plain": [
       "0.93114810219399"
      ]
     },
     "execution_count": 30,
     "metadata": {},
     "output_type": "execute_result"
    }
   ],
   "source": [
    "lgbm = LGBMClassifier()\n",
    "\n",
    "lgbm.fit(np.log1p(X_train), y_train)\n",
    "roc_auc_score(y_val, lgbm.predict_proba(np.log1p(X_val))[:, 1])"
   ]
  },
  {
   "cell_type": "code",
   "execution_count": null,
   "metadata": {},
   "outputs": [],
   "source": []
  },
  {
   "cell_type": "code",
   "execution_count": null,
   "metadata": {},
   "outputs": [],
   "source": []
  },
  {
   "cell_type": "code",
   "execution_count": null,
   "metadata": {},
   "outputs": [],
   "source": []
  },
  {
   "cell_type": "code",
   "execution_count": null,
   "metadata": {},
   "outputs": [],
   "source": []
  },
  {
   "cell_type": "code",
   "execution_count": 51,
   "metadata": {},
   "outputs": [],
   "source": [
    "make_submission(prediction, 'ridge_nans')"
   ]
  },
  {
   "cell_type": "code",
   "execution_count": null,
   "metadata": {},
   "outputs": [],
   "source": [
    "\n",
    "# mask = np.random.choice(X_train.index, size=100000, replace=False)\n",
    "# knn = KNeighborsClassifier()\n",
    "# knn.fit(X_train.loc[mask], y_train.loc[mask])\n",
    "\n",
    "# roc_auc_score(y_test, knn.predict_proba(X_test))"
   ]
  },
  {
   "cell_type": "code",
   "execution_count": 36,
   "metadata": {},
   "outputs": [
    {
     "data": {
      "text/plain": [
       "MONTANT\n",
       "(9.999, 500.0]         0.127763\n",
       "(500.0, 1000.0]        0.079491\n",
       "(1000.0, 2000.0]       0.055419\n",
       "(2000.0, 3000.0]       0.378253\n",
       "(3000.0, 4600.0]       0.030392\n",
       "(4600.0, 7900.0]       0.022264\n",
       "(7900.0, 15350.0]      0.014272\n",
       "(15350.0, 470000.0]    0.010045\n",
       "Name: CHURN, dtype: float64"
      ]
     },
     "execution_count": 36,
     "metadata": {},
     "output_type": "execute_result"
    }
   ],
   "source": [
    "# quantiles = [0, *np.arange(0.05, 1, 0.1), 1]\n",
    "# bins = train.MONTANT.quantile(quantiles)\n",
    "# train.groupby(pd.cut(train.MONTANT, bins, duplicates='drop', include_lowest=True)).CHURN.mean()"
   ]
  },
  {
   "cell_type": "code",
   "execution_count": 68,
   "metadata": {},
   "outputs": [],
   "source": [
    "positive = target.sum()\n",
    "negative = target.shape[0] - positive\n",
    "need = negative - positive\n",
    "\n",
    "new_idx = np.hstack([np.random.choice(target[target==1].index, need), target[target==1].index])\n",
    "\n",
    "X_oversampled = pd.get_dummies(pd.concat([train[target==0], train.loc[new_idx]]))\n",
    "y_oversampled = pd.concat([target[target==0], target.loc[new_idx]])"
   ]
  },
  {
   "cell_type": "code",
   "execution_count": 69,
   "metadata": {},
   "outputs": [],
   "source": [
    "idx = np.random.choice(target[target==1].index, int(positive * 0.3), replace=False)"
   ]
  },
  {
   "cell_type": "code",
   "execution_count": 70,
   "metadata": {},
   "outputs": [],
   "source": [
    "test_idx1 = np.random.choice(target[target==1].index, int(positive * 0.3), replace=False)\n",
    "test_idx0 = np.random.choice(target[target==0].index, int(negative * 0.3), replace=False)\n",
    "full_test_idx = np.hstack([test_idx0, test_idx1])\n",
    "full_train_idx = np.setdiff1d(target.index, full_test_idx)\n",
    "\n",
    "X_train, X_test, y_train, y_test = X_oversampled.loc[full_train_idx], X_oversampled.loc[full_test_idx],\\\n",
    "                                    y_oversampled.loc[full_train_idx], y_oversampled.loc[full_test_idx]"
   ]
  },
  {
   "cell_type": "code",
   "execution_count": 71,
   "metadata": {},
   "outputs": [
    {
     "data": {
      "text/plain": [
       "0.9254100729100593"
      ]
     },
     "execution_count": 71,
     "metadata": {},
     "output_type": "execute_result"
    }
   ],
   "source": [
    "lr = RidgeClassifier()\n",
    "\n",
    "lr.fit(X_train, y_train)\n",
    "roc_auc_score(y_test, lr.decision_function(X_test))"
   ]
  },
  {
   "cell_type": "code",
   "execution_count": 42,
   "metadata": {},
   "outputs": [],
   "source": [
    "estimators = [\n",
    "    ('lgbm1', LGBMClassifier(random_state=1)),\n",
    "    ('lgbm2', LGBMClassifier(random_state=2)),\n",
    "    ('lgbm3', LGBMClassifier(random_state=3))\n",
    " ]\n",
    "\n",
    "stacking = StackingClassifier(\n",
    "    estimators=estimators, final_estimator=RidgeClassifier()\n",
    ")"
   ]
  },
  {
   "cell_type": "code",
   "execution_count": 43,
   "metadata": {},
   "outputs": [
    {
     "data": {
      "text/plain": [
       "StackingClassifier(estimators=[('lgbm1', LGBMClassifier(random_state=1)),\n",
       "                               ('lgbm2', LGBMClassifier(random_state=2)),\n",
       "                               ('lgbm3', LGBMClassifier(random_state=3))],\n",
       "                   final_estimator=RidgeClassifier())"
      ]
     },
     "execution_count": 43,
     "metadata": {},
     "output_type": "execute_result"
    }
   ],
   "source": [
    "stacking.fit(X_train, y_train)"
   ]
  },
  {
   "cell_type": "code",
   "execution_count": 46,
   "metadata": {},
   "outputs": [
    {
     "data": {
      "text/plain": [
       "0.9308577263466179"
      ]
     },
     "execution_count": 46,
     "metadata": {},
     "output_type": "execute_result"
    }
   ],
   "source": [
    "roc_auc_score(y_val, stacking.decision_function(X_val))"
   ]
  },
  {
   "cell_type": "code",
   "execution_count": null,
   "metadata": {},
   "outputs": [],
   "source": []
  },
  {
   "cell_type": "code",
   "execution_count": 28,
   "metadata": {},
   "outputs": [
    {
     "data": {
      "text/plain": [
       "TOP_PACK\n",
       "(1.0, 2.0]      NaN\n",
       "(2.0, 3.0]      NaN\n",
       "(3.0, 5.0]      NaN\n",
       "(5.0, 7.0]      NaN\n",
       "(7.0, 9.0]      NaN\n",
       "(9.0, 13.0]     NaN\n",
       "(13.0, 21.0]    NaN\n",
       "(21.0, 140.0]   NaN\n",
       "Name: CHURN, dtype: float64"
      ]
     },
     "execution_count": 28,
     "metadata": {},
     "output_type": "execute_result"
    }
   ],
   "source": [
    "mapper = {x[1] : x[0] + 1 for x in enumerate(\n",
    "    [x[0] for x in sorted(train.TOP_PACK.value_counts().items(), key=lambda x: -x[1])]\n",
    ")}\n",
    "quantiles = [0, *np.arange(0.05, 1, 0.1), 1]\n",
    "bins = train.TOP_PACK.map(mapper).quantile(quantiles)\n",
    "\n",
    "quantiled = pd.cut(train.TOP_PACK.map(mapper), bins, duplicates='drop')\n",
    "\n",
    "train.groupby(train.TOP_PACK.map(quantiled)).CHURN.mean()"
   ]
  }
 ],
 "metadata": {
  "kernelspec": {
   "display_name": "Python 3",
   "language": "python",
   "name": "python3"
  },
  "language_info": {
   "codemirror_mode": {
    "name": "ipython",
    "version": 3
   },
   "file_extension": ".py",
   "mimetype": "text/x-python",
   "name": "python",
   "nbconvert_exporter": "python",
   "pygments_lexer": "ipython3",
   "version": "3.8.5"
  }
 },
 "nbformat": 4,
 "nbformat_minor": 4
}
