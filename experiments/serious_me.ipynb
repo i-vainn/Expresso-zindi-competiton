{
 "cells": [
  {
   "cell_type": "code",
   "execution_count": 41,
   "metadata": {},
   "outputs": [],
   "source": [
    "import pandas as pd\n",
    "import numpy as np\n",
    "\n",
    "from scipy.signal import argrelextrema\n",
    "\n",
    "from lightgbm import LGBMClassifier\n",
    "from sklearn.linear_model import RidgeClassifier\n",
    "from sklearn.neighbors import KNeighborsClassifier\n",
    "from sklearn.ensemble import StackingClassifier\n",
    "\n",
    "from sklearn.preprocessing import OneHotEncoder\n",
    "from sklearn.model_selection import train_test_split\n",
    "from sklearn.metrics import roc_auc_score\n",
    "\n",
    "from tqdm.notebook import tqdm\n",
    "import matplotlib.pyplot as plt\n",
    "import seaborn as sns"
   ]
  },
  {
   "cell_type": "code",
   "execution_count": 23,
   "metadata": {},
   "outputs": [],
   "source": [
    "train = pd.read_csv('data/Train.csv')\n",
    "test = pd.read_csv('data/Test.csv')\n",
    "sub = pd.read_csv('data/Samplesubmission.csv')"
   ]
  },
  {
   "cell_type": "code",
   "execution_count": 26,
   "metadata": {},
   "outputs": [],
   "source": [
    "target = train['CHURN']\n",
    "train['REGULARITY'] = train['REGULARITY'].astype('float')\n",
    "train = train.drop(['user_id', 'MRG', 'CHURN', 'TOP_PACK'], axis=1)\n",
    "test = test.drop(['user_id', 'MRG', 'TOP_PACK'], axis=1)"
   ]
  },
  {
   "cell_type": "code",
   "execution_count": 27,
   "metadata": {},
   "outputs": [],
   "source": [
    "for col in train.columns:\n",
    "    if train[col].isna().sum() == 0:\n",
    "        continue\n",
    "        \n",
    "    filler = 'NAN'\n",
    "    if train[col].dtype != 'object':\n",
    "        train[col + '_isna'] = train[col].isna().astype('int')\n",
    "        test[col + '_isna'] = test[col].isna().astype('int')\n",
    "        filler = train[col].median()\n",
    "\n",
    "    train[col] = train[col].fillna(filler)\n",
    "    test[col] = test[col].fillna(filler)"
   ]
  },
  {
   "cell_type": "code",
   "execution_count": 28,
   "metadata": {},
   "outputs": [],
   "source": [
    "# def get_bins(data):\n",
    "#     x, y = sns.kdeplot(data[data>0], log_scale=True, color='b').get_lines()[0].get_data()\n",
    "#     plt.close()\n",
    "#     ext, = argrelextrema(y, np.less)\n",
    "#     return [min(data.min(), x.min()) - 1, *x[ext], max(data.max(), x.max()) + 1]\n",
    "\n",
    "# for col in tqdm(train.columns[train.dtypes=='float']):\n",
    "#     bins = get_bins(train[col])\n",
    "#     train[col + '_minimums'] = pd.cut(train[col], bins)\n",
    "#     test[col + '_minimums'] = pd.cut(test[col], bins)\n",
    "\n",
    "ohe = OneHotEncoder(sparse=False, handle_unknown='ignore')\n",
    "ohe_train = ohe.fit_transform(train[train.columns[train.dtypes=='object']])\n",
    "ohe_test = ohe.transform(test[test.columns[test.dtypes=='object']])\n",
    "\n",
    "train = np.hstack([ohe_train, train[train.columns[train.dtypes!='object']].values])\n",
    "test = np.hstack([ohe_test, test[test.columns[test.dtypes!='object']].values])"
   ]
  },
  {
   "cell_type": "code",
   "execution_count": 47,
   "metadata": {},
   "outputs": [],
   "source": [
    "def make_submission(prediction, filename):\n",
    "    sub['CHURN'] = prediction\n",
    "    sub.to_csv('data/submissions/{}.csv'.format(filename), index=False)"
   ]
  },
  {
   "cell_type": "code",
   "execution_count": 29,
   "metadata": {},
   "outputs": [],
   "source": [
    "X_train, X_val, y_train, y_val = train_test_split(train, target)"
   ]
  },
  {
   "cell_type": "code",
   "execution_count": 30,
   "metadata": {},
   "outputs": [
    {
     "data": {
      "text/plain": [
       "0.9250693117958613"
      ]
     },
     "execution_count": 30,
     "metadata": {},
     "output_type": "execute_result"
    }
   ],
   "source": [
    "lr = RidgeClassifier(class_weight='balanced')\n",
    "lr.fit(X_train, y_train)\n",
    "\n",
    "roc_auc_score(y_val, lr.decision_function(X_val))"
   ]
  },
  {
   "cell_type": "code",
   "execution_count": 49,
   "metadata": {},
   "outputs": [],
   "source": [
    "lr = RidgeClassifier(class_weight='balanced')\n",
    "lr.fit(train, target)\n",
    "\n",
    "prediction = lr.decision_function(test)"
   ]
  },
  {
   "cell_type": "code",
   "execution_count": 53,
   "metadata": {},
   "outputs": [],
   "source": [
    "train = np.hstack([train, lr.decision_function(train).reshape(-1, 1)])\n",
    "test = np.hstack([test, lr.decision_function(test).reshape(-1, 1)])"
   ]
  },
  {
   "cell_type": "code",
   "execution_count": 54,
   "metadata": {},
   "outputs": [],
   "source": [
    "X_train, X_val, y_train, y_val = train_test_split(train, target)"
   ]
  },
  {
   "cell_type": "code",
   "execution_count": 58,
   "metadata": {},
   "outputs": [
    {
     "data": {
      "text/plain": [
       "0.9310806320470547"
      ]
     },
     "execution_count": 58,
     "metadata": {},
     "output_type": "execute_result"
    }
   ],
   "source": [
    "lgbm = LGBMClassifier()\n",
    "\n",
    "lgbm.fit(X_train, y_train)\n",
    "roc_auc_score(y_val, lgbm.predict_proba(X_val)[:, 1])"
   ]
  },
  {
   "cell_type": "code",
   "execution_count": null,
   "metadata": {},
   "outputs": [],
   "source": []
  },
  {
   "cell_type": "code",
   "execution_count": null,
   "metadata": {},
   "outputs": [],
   "source": []
  },
  {
   "cell_type": "code",
   "execution_count": null,
   "metadata": {},
   "outputs": [],
   "source": []
  },
  {
   "cell_type": "code",
   "execution_count": null,
   "metadata": {},
   "outputs": [],
   "source": []
  },
  {
   "cell_type": "code",
   "execution_count": 51,
   "metadata": {},
   "outputs": [],
   "source": [
    "make_submission(prediction, 'ridge_nans')"
   ]
  },
  {
   "cell_type": "code",
   "execution_count": null,
   "metadata": {},
   "outputs": [],
   "source": [
    "\n",
    "# mask = np.random.choice(X_train.index, size=100000, replace=False)\n",
    "# knn = KNeighborsClassifier()\n",
    "# knn.fit(X_train.loc[mask], y_train.loc[mask])\n",
    "\n",
    "# roc_auc_score(y_test, knn.predict_proba(X_test))"
   ]
  },
  {
   "cell_type": "code",
   "execution_count": 36,
   "metadata": {},
   "outputs": [
    {
     "data": {
      "text/plain": [
       "MONTANT\n",
       "(9.999, 500.0]         0.127763\n",
       "(500.0, 1000.0]        0.079491\n",
       "(1000.0, 2000.0]       0.055419\n",
       "(2000.0, 3000.0]       0.378253\n",
       "(3000.0, 4600.0]       0.030392\n",
       "(4600.0, 7900.0]       0.022264\n",
       "(7900.0, 15350.0]      0.014272\n",
       "(15350.0, 470000.0]    0.010045\n",
       "Name: CHURN, dtype: float64"
      ]
     },
     "execution_count": 36,
     "metadata": {},
     "output_type": "execute_result"
    }
   ],
   "source": [
    "# quantiles = [0, *np.arange(0.05, 1, 0.1), 1]\n",
    "# bins = train.MONTANT.quantile(quantiles)\n",
    "# train.groupby(pd.cut(train.MONTANT, bins, duplicates='drop', include_lowest=True)).CHURN.mean()"
   ]
  },
  {
   "cell_type": "code",
   "execution_count": 68,
   "metadata": {},
   "outputs": [],
   "source": [
    "positive = target.sum()\n",
    "negative = target.shape[0] - positive\n",
    "need = negative - positive\n",
    "\n",
    "new_idx = np.hstack([np.random.choice(target[target==1].index, need), target[target==1].index])\n",
    "\n",
    "X_oversampled = pd.get_dummies(pd.concat([train[target==0], train.loc[new_idx]]))\n",
    "y_oversampled = pd.concat([target[target==0], target.loc[new_idx]])"
   ]
  },
  {
   "cell_type": "code",
   "execution_count": 69,
   "metadata": {},
   "outputs": [],
   "source": [
    "idx = np.random.choice(target[target==1].index, int(positive * 0.3), replace=False)"
   ]
  },
  {
   "cell_type": "code",
   "execution_count": 70,
   "metadata": {},
   "outputs": [],
   "source": [
    "test_idx1 = np.random.choice(target[target==1].index, int(positive * 0.3), replace=False)\n",
    "test_idx0 = np.random.choice(target[target==0].index, int(negative * 0.3), replace=False)\n",
    "full_test_idx = np.hstack([test_idx0, test_idx1])\n",
    "full_train_idx = np.setdiff1d(target.index, full_test_idx)\n",
    "\n",
    "X_train, X_test, y_train, y_test = X_oversampled.loc[full_train_idx], X_oversampled.loc[full_test_idx],\\\n",
    "                                    y_oversampled.loc[full_train_idx], y_oversampled.loc[full_test_idx]"
   ]
  },
  {
   "cell_type": "code",
   "execution_count": 71,
   "metadata": {},
   "outputs": [
    {
     "data": {
      "text/plain": [
       "0.9254100729100593"
      ]
     },
     "execution_count": 71,
     "metadata": {},
     "output_type": "execute_result"
    }
   ],
   "source": [
    "lr = RidgeClassifier()\n",
    "\n",
    "lr.fit(X_train, y_train)\n",
    "roc_auc_score(y_test, lr.decision_function(X_test))"
   ]
  },
  {
   "cell_type": "code",
   "execution_count": 42,
   "metadata": {},
   "outputs": [],
   "source": [
    "estimators = [\n",
    "    ('lgbm1', LGBMClassifier(random_state=1)),\n",
    "    ('lgbm2', LGBMClassifier(random_state=2)),\n",
    "    ('lgbm3', LGBMClassifier(random_state=3))\n",
    " ]\n",
    "\n",
    "stacking = StackingClassifier(\n",
    "    estimators=estimators, final_estimator=RidgeClassifier()\n",
    ")"
   ]
  },
  {
   "cell_type": "code",
   "execution_count": 43,
   "metadata": {},
   "outputs": [
    {
     "data": {
      "text/plain": [
       "StackingClassifier(estimators=[('lgbm1', LGBMClassifier(random_state=1)),\n",
       "                               ('lgbm2', LGBMClassifier(random_state=2)),\n",
       "                               ('lgbm3', LGBMClassifier(random_state=3))],\n",
       "                   final_estimator=RidgeClassifier())"
      ]
     },
     "execution_count": 43,
     "metadata": {},
     "output_type": "execute_result"
    }
   ],
   "source": [
    "stacking.fit(X_train, y_train)"
   ]
  },
  {
   "cell_type": "code",
   "execution_count": 46,
   "metadata": {},
   "outputs": [
    {
     "data": {
      "text/plain": [
       "0.9308577263466179"
      ]
     },
     "execution_count": 46,
     "metadata": {},
     "output_type": "execute_result"
    }
   ],
   "source": [
    "roc_auc_score(y_val, stacking.decision_function(X_val))"
   ]
  },
  {
   "cell_type": "code",
   "execution_count": null,
   "metadata": {},
   "outputs": [],
   "source": []
  },
  {
   "cell_type": "code",
   "execution_count": 28,
   "metadata": {},
   "outputs": [
    {
     "data": {
      "text/plain": [
       "TOP_PACK\n",
       "(1.0, 2.0]      NaN\n",
       "(2.0, 3.0]      NaN\n",
       "(3.0, 5.0]      NaN\n",
       "(5.0, 7.0]      NaN\n",
       "(7.0, 9.0]      NaN\n",
       "(9.0, 13.0]     NaN\n",
       "(13.0, 21.0]    NaN\n",
       "(21.0, 140.0]   NaN\n",
       "Name: CHURN, dtype: float64"
      ]
     },
     "execution_count": 28,
     "metadata": {},
     "output_type": "execute_result"
    }
   ],
   "source": [
    "mapper = {x[1] : x[0] + 1 for x in enumerate(\n",
    "    [x[0] for x in sorted(train.TOP_PACK.value_counts().items(), key=lambda x: -x[1])]\n",
    ")}\n",
    "quantiles = [0, *np.arange(0.05, 1, 0.1), 1]\n",
    "bins = train.TOP_PACK.map(mapper).quantile(quantiles)\n",
    "\n",
    "quantiled = pd.cut(train.TOP_PACK.map(mapper), bins, duplicates='drop')\n",
    "\n",
    "train.groupby(train.TOP_PACK.map(quantiled)).CHURN.mean()"
   ]
  }
 ],
 "metadata": {
  "kernelspec": {
   "display_name": "Python 3",
   "language": "python",
   "name": "python3"
  },
  "language_info": {
   "codemirror_mode": {
    "name": "ipython",
    "version": 3
   },
   "file_extension": ".py",
   "mimetype": "text/x-python",
   "name": "python",
   "nbconvert_exporter": "python",
   "pygments_lexer": "ipython3",
   "version": "3.8.5"
  }
 },
 "nbformat": 4,
 "nbformat_minor": 4
}
